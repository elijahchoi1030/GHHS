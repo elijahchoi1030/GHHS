{
 "cells": [
  {
   "cell_type": "code",
   "execution_count": 2,
   "metadata": {},
   "outputs": [],
   "source": [
    "import matplotlib.pyplot as plt\n",
    "import numpy as np\n",
    "from tqdm import tqdm\n",
    "import random"
   ]
  },
  {
   "cell_type": "code",
   "execution_count": 90,
   "metadata": {},
   "outputs": [
    {
     "name": "stdout",
     "output_type": "stream",
     "text": [
      "137\n"
     ]
    }
   ],
   "source": [
    "H, W, C = 7, 10, 4\n",
    "Q = np.arange(H*W*C)\n",
    "Q = Q.reshape(H, W, C)\n",
    "\n",
    "stt = (3, 4)\n",
    "print(Q[stt][1])"
   ]
  },
  {
   "cell_type": "code",
   "execution_count": 59,
   "metadata": {},
   "outputs": [
    {
     "name": "stdout",
     "output_type": "stream",
     "text": [
      "[ 0.  -0.9 -0.8 -0.7 -0.6 -0.5 -0.4 -0.3 -0.2 -0.1  0.   0.1  0.2  0.3\n",
      "  0.4  0.5  0.6  0.7  0.8  0.9  0. ]\n"
     ]
    },
    {
     "data": {
      "text/plain": [
       "0.5477225575051661"
      ]
     },
     "execution_count": 59,
     "metadata": {},
     "output_type": "execute_result"
    }
   ],
   "source": [
    "NUM_STATE = 19\n",
    "\n",
    "go = np.concatenate([[0], (np.arange(1+NUM_STATE)/(1+NUM_STATE)*2-1)[1:], [0]])\n",
    "gv = np.zeros(NUM_STATE+2)\n",
    "\n",
    "print(go)\n",
    "RMS(go, gv)"
   ]
  },
  {
   "cell_type": "code",
   "execution_count": 3,
   "metadata": {},
   "outputs": [
    {
     "name": "stdout",
     "output_type": "stream",
     "text": [
      "[0.   0.05 0.1  0.15 0.2  0.25 0.3  0.35 0.4  0.45 0.5  0.55 0.6  0.65\n",
      " 0.7  0.75 0.8  0.85 0.9  0.95 0.  ]\n",
      "[0.  0.5 0.5 0.5 0.5 0.5 0.5 0.5 0.5 0.5 0.5 0.5 0.5 0.5 0.5 0.5 0.5 0.5\n",
      " 0.5 0.5 0. ]\n",
      "0.27386127875258304\n"
     ]
    }
   ],
   "source": [
    "import numpy as np\n",
    "\n",
    "NUM_STATE = 19\n",
    "\n",
    "gt = np.append(np.arange(1+NUM_STATE)/(1+NUM_STATE), 0)\n",
    "val = np.concatenate([[0], np.ones(NUM_STATE)/2, [0]])\n",
    "val = np.zeros(21)\n",
    "\n",
    "\n",
    "def RMS(gt, val):\n",
    "    return np.sqrt(np.sum(np.square(val - gt))/NUM_STATE)\n",
    "\n",
    "print(gt)\n",
    "print(val)\n",
    "print(RMS(gt, val))\n"
   ]
  },
  {
   "cell_type": "code",
   "execution_count": 1,
   "metadata": {},
   "outputs": [
    {
     "name": "stdout",
     "output_type": "stream",
     "text": [
      "[0. 0. 0. 0. 0. 0. 0. 0. 0. 0. 0. 0. 0. 0. 0. 0. 0. 0. 0. 0. 0.]\n",
      "0.5477225575051661\n"
     ]
    }
   ],
   "source": [
    "from hw2_utils import env\n",
    "\n",
    "a = env(alpha=0, num_states=19, use_penalty=True)\n",
    "b = a.learnTDN(n=4)\n",
    "print(a.value)\n",
    "print(a.RMS())\n",
    "\n",
    "\n"
   ]
  },
  {
   "cell_type": "code",
   "execution_count": null,
   "metadata": {},
   "outputs": [],
   "source": []
  }
 ],
 "metadata": {
  "kernelspec": {
   "display_name": "Python 3",
   "language": "python",
   "name": "python3"
  },
  "language_info": {
   "codemirror_mode": {
    "name": "ipython",
    "version": 3
   },
   "file_extension": ".py",
   "mimetype": "text/x-python",
   "name": "python",
   "nbconvert_exporter": "python",
   "pygments_lexer": "ipython3",
   "version": "3.11.2"
  },
  "orig_nbformat": 4,
  "vscode": {
   "interpreter": {
    "hash": "410ded178dab334b15510b7bacc832e8c4bf96b2f3c6bd551b972f2d2277a145"
   }
  }
 },
 "nbformat": 4,
 "nbformat_minor": 2
}
